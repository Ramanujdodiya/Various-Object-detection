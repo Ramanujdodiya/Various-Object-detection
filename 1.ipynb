{
 "cells": [
  {
   "cell_type": "code",
   "execution_count": 2,
   "metadata": {},
   "outputs": [],
   "source": [
    "import torch\n",
    "from torchvision import models, transforms\n",
    "from PIL import Image, ImageDraw\n",
    "\n",
    "model = models.detection.fasterrcnn_resnet50_fpn(pretrained=True)\n",
    "model.eval()\n",
    "\n",
    "transform = transforms.Compose([\n",
    "    transforms.ToTensor(),\n",
    "])\n",
    "\n",
    "image_path = 'Untitled.jpeg'\n",
    "input_image = Image.open(image_path).convert(\"RGB\")\n",
    "input_tensor = transform(input_image)\n",
    "input_batch = input_tensor.unsqueeze(0)\n",
    "\n",
    "with torch.no_grad():\n",
    "    prediction = model(input_batch)\n",
    "\n",
    "boxes = prediction[0]['boxes'].cpu().numpy()\n",
    "labels = prediction[0]['labels'].cpu().numpy()\n",
    "scores = prediction[0]['scores'].cpu().numpy()\n",
    "\n",
    "# Set a confidence score threshold\n",
    "confidence_threshold = 0.5\n",
    "\n",
    "draw = ImageDraw.Draw(input_image)\n",
    "\n",
    "for i in range(len(boxes)):\n",
    "    box = boxes[i]\n",
    "    label = labels[i]\n",
    "    score = scores[i]\n",
    "\n",
    "    if score > confidence_threshold:\n",
    "        draw.rectangle([(box[0], box[1]), (box[2], box[3])], outline=\"red\", width=3)\n",
    "\n",
    "        label_text = f\"Label: {label}, Score: {score:.2f}\"\n",
    "        draw.text((box[0], box[1]), label_text, fill=\"red\")\n",
    "\n",
    "input_image.show()\n",
    "# input_image.save('output_image.jpg')\n"
   ]
  }
 ],
 "metadata": {
  "kernelspec": {
   "display_name": "Python 3",
   "language": "python",
   "name": "python3"
  },
  "language_info": {
   "codemirror_mode": {
    "name": "ipython",
    "version": 3
   },
   "file_extension": ".py",
   "mimetype": "text/x-python",
   "name": "python",
   "nbconvert_exporter": "python",
   "pygments_lexer": "ipython3",
   "version": "3.11.5"
  }
 },
 "nbformat": 4,
 "nbformat_minor": 2
}
